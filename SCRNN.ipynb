{
  "nbformat": 4,
  "nbformat_minor": 0,
  "metadata": {
    "colab": {
      "provenance": [],
      "toc_visible": true,
      "authorship_tag": "ABX9TyPXH7JmTomX2HxJDdLTIer/",
      "include_colab_link": true
    },
    "kernelspec": {
      "name": "python3",
      "display_name": "Python 3"
    },
    "language_info": {
      "name": "python"
    }
  },
  "cells": [
    {
      "cell_type": "markdown",
      "metadata": {
        "id": "view-in-github",
        "colab_type": "text"
      },
      "source": [
        "<a href=\"https://colab.research.google.com/github/Jun001209/SR/blob/main/SCRNN.ipynb\" target=\"_parent\"><img src=\"https://colab.research.google.com/assets/colab-badge.svg\" alt=\"Open In Colab\"/></a>"
      ]
    },
    {
      "cell_type": "code",
      "execution_count": null,
      "metadata": {
        "id": "tH_FFBrYKBMn"
      },
      "outputs": [],
      "source": [
        "import torch.nn as nn\n",
        "import torch.nn.functional as F\n",
        "\n",
        "class SRCNN(nn.Module):\n",
        "  def __init__(self):\n",
        "    super(SRCNN, self).__init__()\n",
        "\n",
        "    # 저해상도 이미지에서 패치 특징 추출\n",
        "    self.conv1 = nn.Conv2d(3, 64, kernel_size=9, padding = 4)\n",
        "\n",
        "    # 추출한 특징들을 더 작은 차원으로 매핑\n",
        "    self.conv2 = nn.Conv2d(64, 32, kernel_size = 1)\n",
        "\n",
        "    # RGB 채널의 고해상도 이미지 복원\n",
        "    self.conv3 = nn.Conv2d(32, 3, kernel_size = 5, padding = 2)\n",
        "\n",
        "  def forward(self, x):\n",
        "    x = F.relu(self.conv1(x))\n",
        "    x = F.relu(self.conv1(x))\n",
        "    x = self.conv2(x)\n",
        "\n",
        "    return x"
      ]
    },
    {
      "cell_type": "code",
      "source": [],
      "metadata": {
        "id": "sfxaBkd8KNfd"
      },
      "execution_count": null,
      "outputs": []
    }
  ]
}